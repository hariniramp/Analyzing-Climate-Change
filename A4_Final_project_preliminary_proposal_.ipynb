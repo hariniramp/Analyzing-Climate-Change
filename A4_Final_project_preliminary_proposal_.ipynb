{
  "nbformat": 4,
  "nbformat_minor": 0,
  "metadata": {
    "colab": {
      "name": "A4: Final project preliminary proposal .ipynb",
      "provenance": []
    },
    "kernelspec": {
      "name": "python3",
      "display_name": "Python 3"
    }
  },
  "cells": [
    {
      "cell_type": "markdown",
      "metadata": {
        "id": "c8yakW2Icn60"
      },
      "source": [
        "# DATA 512: Final Project Proposal\n",
        "\n",
        "## Motivation and problem statement\n",
        "The issue of systemic racism is one that is prevalent and dangerous in the US. One symptom of this racism might be observed in the workplace. Often, employers knowingly or unknowingly can discriminate against resumeees or profiles of people whose names might sound African-American, as opposed to Caucasian. The motivation for this project will be to see whether how a person's name sounds actually affects whether they are offered interview calls for jobs. By conducting an exploratory data analysis and hypothesis tests on this subject, I aim to gauge what factors affect resumes that get follow-up calls, and if ethnicity or race play some part in it. This problem interests me from a practical standpoint as I will soon start to work in industry and would like to know how screening processes for hiring candidates work. It is also extremely interesting from a human-centered perspective.\n",
        "\n",
        "## Data selected for analysis \n",
        "The dataset I selected contains 4870 fictional resumes that were sent as responses to newspaper job advertisements. Different attributes of the resume (names, experience, education, employer industry, etc) have been outlined as columns. The dataset also contains information about whether various profiles were called back for an interview or not. The [dataset description](https://vincentarelbundock.github.io/Rdatasets/doc/AER/ResumeNames.html) and [dataset](https://vincentarelbundock.github.io/Rdatasets/csv/AER/ResumeNames.csv) are linked here. The datasets are licensed under the [GPL-3 license](https://vincentarelbundock.github.io/Rdatasets/LICENSE.html). This dataset is perfect for this problem because it contains profiles of fictional candidates and can be used for analysis based on real responses that these profiles got.\n",
        "\n",
        "## Unknowns and dependencies\n",
        "\n",
        "There are no real dependencies or unknowns regarding the project. The data is publicly available and free for downloading. As such, it should be possible to complete the analysis well within time. The only qualm I have with it is that it's scope is severely limited as we only observe traditionally Caucasian vs African-American names. I would have liked to be able to analyze many more ethnicities in my research. Additionally, only the cities of Chicago and Boston are explored in the US. This limits the scope again. \n"
      ]
    },
    {
      "cell_type": "code",
      "metadata": {
        "id": "gK_4vY21bqOk"
      },
      "source": [
        ""
      ],
      "execution_count": null,
      "outputs": []
    }
  ]
}